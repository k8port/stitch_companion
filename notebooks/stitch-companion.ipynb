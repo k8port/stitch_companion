{
 "cells": [
  {
   "cell_type": "code",
   "execution_count": 1,
   "id": "a2b69e85-96df-43e4-83ca-34f1ef6618c7",
   "metadata": {},
   "outputs": [],
   "source": [
    "from PIL import Image, ImageOps, ImageDraw, ImageFont\n",
    "import sklearn\n",
    "import colormath\n",
    "import numpy as np\n",
    "import pandas as pd\n",
    "import colorsys\n",
    "from sklearn.cluster import KMeans\n",
    "import matplotlib.pyplot as plt\n",
    "from colormath.color_objects import sRGBColor, LabColor\n",
    "from colormath.color_conversions import convert_color\n",
    "from colormath.color_diff import delta_e_cie2000"
   ]
  },
  {
   "cell_type": "code",
   "execution_count": 2,
   "id": "ebbb56b6-02cf-4cb3-acc3-1ab726554522",
   "metadata": {},
   "outputs": [],
   "source": [
    "# Step 1 Load and resize image\n",
    "\n",
    "def load_and_resize_image(image, target_size):\n",
    "    image.load()\n",
    "    resized_image = image.resize(target_size, Image.Resampling.LANCZOS)\n",
    "    return resized_image"
   ]
  },
  {
   "cell_type": "code",
   "execution_count": 3,
   "id": "38409e53-c2c5-4312-9b6d-3e6a4a43538a",
   "metadata": {},
   "outputs": [],
   "source": [
    "# Step 2 Convert image to limited color palette (quantization)  \n",
    "# Find way to improve color reduction so that brighter colors are not muted\n",
    "def quantize_image(image, num_colors):\n",
    "    \"\"\"Uses K-Means clustering ML algorithm to reduce number of colors\"\"\"\n",
    "    image = image.convert(\"RGB\")\n",
    "    image_np = np.array(image)\n",
    "    pixels = image_np.reshape(-1, 3)\n",
    "\n",
    "    kmeans = KMeans(n_clusters=num_colors, random_state=42).fit(pixels)\n",
    "    palette = kmeans.cluster_centers_.astype(int)\n",
    "    labels = kmeans.labels_\n",
    "    \n",
    "    q_image_np = palette[labels].reshape(image_np.shape)\n",
    "    q_image = Image.fromarray(q_image_np.astype('uint8'), 'RGB')\n",
    "    \n",
    "    return q_image, labels, palette"
   ]
  },
  {
   "cell_type": "code",
   "execution_count": 4,
   "id": "eb18fb0f-faa7-4e97-8f50-40e72e616336",
   "metadata": {},
   "outputs": [],
   "source": [
    "def load_threads(csv_file):\n",
    "    colors_df = pd.read_csv(csv_file)\n",
    "    dmc_colors = {}\n",
    "\n",
    "    for index, row in colors_df.iterrows():\n",
    "        color_name = row['ColorName']\n",
    "        floss_num = row['FlossCode']\n",
    "        rgb_value = (row['Red'], row['Green'], row['Blue'])\n",
    "        code_color = f\"{floss_num}: {color_name}\"\n",
    "        dmc_colors[code_color] = rgb_value\n",
    "    \n",
    "    return dmc_colors"
   ]
  },
  {
   "cell_type": "code",
   "execution_count": 5,
   "id": "90550279-a258-4bf6-9c52-eb2a0953ef0f",
   "metadata": {},
   "outputs": [],
   "source": [
    "def get_unique_color_count(image):\n",
    "    image = image.convert('RGB')\n",
    "    image_np = np.array(image)\n",
    "    pixels = image_np.reshape(-1, 3)\n",
    "\n",
    "    unique_colors = np.unique(pixels, axis=0)\n",
    "    return len(unique_colors)"
   ]
  },
  {
   "cell_type": "code",
   "execution_count": 6,
   "id": "6774473c-2012-4bdb-b8ca-19802b66a7f9",
   "metadata": {},
   "outputs": [],
   "source": [
    "def closest_color(target_rgb, color_library):\n",
    "    # create target color object\n",
    "    target_color = sRGBColor(*target_rgb, is_upscaled=True)\n",
    "    target_lab = convert_color(target_color, LabColor)\n",
    "    \n",
    "    closest_color = None\n",
    "    min_delta_e = float('inf')\n",
    "        \n",
    "    for color_code, rgb_value in color_library.items():\n",
    "        # unpack RGB values + create color object for thread color\n",
    "        r, g, b = rgb_value\n",
    "        library_color = sRGBColor(r, g, b, is_upscaled=True)\n",
    "        library_lab = convert_color(library_color, LabColor)\n",
    "        delta_e = delta_e_cie2000(target_lab, library_lab)\n",
    "        \n",
    "        if delta_e < min_delta_e:\n",
    "            min_delta_e = delta_e\n",
    "            closest_color = (color_code, rgb_value)\n",
    "    \n",
    "    return closest_color"
   ]
  },
  {
   "cell_type": "code",
   "execution_count": 7,
   "id": "d47c6391-d060-41b9-8183-68ce110e67dd",
   "metadata": {},
   "outputs": [
    {
     "ename": "NameError",
     "evalue": "name 'dmc_colors' is not defined",
     "output_type": "error",
     "traceback": [
      "\u001b[0;31m---------------------------------------------------------------------------\u001b[0m",
      "\u001b[0;31mNameError\u001b[0m                                 Traceback (most recent call last)",
      "Cell \u001b[0;32mIn[7], line 2\u001b[0m\n\u001b[1;32m      1\u001b[0m target_color \u001b[38;5;241m=\u001b[39m (\u001b[38;5;241m70\u001b[39m, \u001b[38;5;241m130\u001b[39m, \u001b[38;5;241m180\u001b[39m)  \u001b[38;5;66;03m# Example: Steel Blue\u001b[39;00m\n\u001b[0;32m----> 2\u001b[0m closest_thread \u001b[38;5;241m=\u001b[39m closest_color(target_color, \u001b[43mdmc_colors\u001b[49m)\n\u001b[1;32m      3\u001b[0m \u001b[38;5;28mprint\u001b[39m(\u001b[38;5;124mf\u001b[39m\u001b[38;5;124m\"\u001b[39m\u001b[38;5;124mClosest thread color: \u001b[39m\u001b[38;5;132;01m{\u001b[39;00mclosest_thread\u001b[38;5;132;01m}\u001b[39;00m\u001b[38;5;124m\"\u001b[39m)\n",
      "\u001b[0;31mNameError\u001b[0m: name 'dmc_colors' is not defined"
     ]
    }
   ],
   "source": [
    "target_color = (70, 130, 180)  # Example: Steel Blue\n",
    "closest_thread = closest_color(target_color, dmc_colors)\n",
    "print(f\"Closest thread color: {closest_thread}\")"
   ]
  },
  {
   "cell_type": "code",
   "execution_count": 8,
   "id": "5d2bca27-eb39-498d-a422-c712cf571236",
   "metadata": {},
   "outputs": [],
   "source": [
    "# Step 3 Map image colors to DMC floss\n",
    "def map_colors_to_thread(palette, color_library):\n",
    "    mapped_palette = []\n",
    "    for color in palette: \n",
    "        closest_ = closest_color(color, color_library)\n",
    "        mapped_palette.append(closest_[1])                                 \n",
    "    return mapped_palette"
   ]
  },
  {
   "cell_type": "code",
   "execution_count": 9,
   "id": "f0eb0dbe-61f6-44ed-b1b2-35ba0f966cca",
   "metadata": {},
   "outputs": [],
   "source": [
    "def apply_palette_to_image(image, kmeans_labels, mapped_palette):\n",
    "    image_np = np.array(image)\n",
    "    pixels = image_np.reshape(-1, 3)\n",
    "\n",
    "    # replace each picxel with mapped color thread\n",
    "    for i in range(len(pixels)):\n",
    "        pixels[i] = mapped_palette[kmeans_labels[i]]\n",
    "    \n",
    "    new_image_np = pixels.reshape(image_np.shape)\n",
    "    return Image.fromarray(new_image_np.astype('uint8'), 'RGB')"
   ]
  },
  {
   "cell_type": "code",
   "execution_count": 10,
   "id": "b75ef74b-a929-4f07-b2c8-d838269cad5e",
   "metadata": {},
   "outputs": [],
   "source": [
    "def symbol_dict_create(dmc_colors, mapped_palette):\n",
    "    symbol_map = {}\n",
    "    pattern_floss = {}  # dmc colors used in pattern\n",
    "    symbols = '~@#$%^*-+<>/abcdefghijklmnopqrstuvwxyz1234567890';\n",
    "    \n",
    "    for idx, thread_rgb in enumerate(mapped_palette):\n",
    "        for thread_name, rgb_value in dmc_colors.items():\n",
    "            if rgb_value == thread_rgb and rgb_value not in symbol_map:\n",
    "                if idx < len(symbols):\n",
    "                    symbol_map[rgb_value] = symbols[idx]\n",
    "                    pattern_floss[thread_name] = rgb_value\n",
    "                else:\n",
    "                    raise ValueError(\"Ran out of available symbols to assign to DMC threads\")\n",
    "                    break;\n",
    "\n",
    "    return symbol_map, pattern_floss"
   ]
  },
  {
   "cell_type": "code",
   "execution_count": 13,
   "id": "e1bb1ad5-2142-4865-b7d0-625a4a548fef",
   "metadata": {},
   "outputs": [],
   "source": [
    "def count_unique_colors(image):\n",
    "    \"\"\" count number of unique colors in image.\"\"\"\n",
    "    image = image.convert(\"RGB\")\n",
    "    image_data = np.array(image)\n",
    "    pixels = image_data.reshape(-1, image_data.shape[-1])\n",
    "    unique_colors = set(tuple(pixel) for pixel in pixels)\n",
    "    return len(unique_colors)\n"
   ]
  },
  {
   "cell_type": "code",
   "execution_count": 11,
   "id": "ff432c38-3025-495c-8b9f-9217f6b614c2",
   "metadata": {},
   "outputs": [],
   "source": [
    "# Step 4 Fills pattern grid with used thread colors and their mapped symbols\n",
    "def fill_pattern(image, mapped_palette, kmeans_labels, symbol_map, grid_size=(10, 10)):\n",
    "    \"\"\"\n",
    "    Debug method for creating a pattern chart for image using mapped thread palette with symbols\n",
    "    \n",
    "    Parameters:\n",
    "        - image: image to convert into pattern chart\n",
    "        - mapped_palette: List of mapped thread colors\n",
    "        - kmeans_labels: KMeans cluster labels\n",
    "        - symbol_map: Dictionary of symbols mapped to pattern threads\n",
    "        - grid_size: Size of each grid cell in chart (width, height)\n",
    "\n",
    "    Returns:\n",
    "     - pattern_chart: Pattern chart filled with thread symbols and thread color\n",
    "     \n",
    "    \"\"\"\n",
    "    image_np = np.array(image)\n",
    "    height, width = image_np.shape[:2]\n",
    "    \n",
    "    # create empty pattern chart with ecru background\n",
    "    pattern_chart = Image.new('RGB', (width, height), color=(240, 234, 218))\n",
    "    draw = ImageDraw.Draw(pattern_chart)\n",
    "    \n",
    "    for y in range(0, height, grid_size[1]):\n",
    "        for x in range(0, width, grid_size[0]):\n",
    "            color_index = kmeans_labels[((y // grid_size[1]) * (width // grid_size[0])) + (x // grid_size[0])]\n",
    "            thread_rgb = mapped_palette[color_index]\n",
    "            symbol = symbol_map.get(thread_rgb, '?')\n",
    "\n",
    "            # Fill the background with the thread color [x0, y0, x1, y1] or [(x0, y0), (x1, y1)]\n",
    "            draw.rectangle([(x, y), (x + grid_size[0], y + grid_size[1])], fill=thread_rgb)\n",
    "\n",
    "            # # Choose black or white for better contrast of the symbol\n",
    "            # symbol_color = \"black\" if sum(thread_rgb) > 400 else \"white\"\n",
    "            # text_x = x + grid_size[0] // 4\n",
    "            # text_y = y + grid_size[1] // 4\n",
    "            # draw.text((text_x, text_y), symbol, fill=symbol_color)\n",
    "        \n",
    "    return pattern_chart\n",
    "    "
   ]
  },
  {
   "cell_type": "code",
   "execution_count": 14,
   "id": "4d91f0fb-0dc8-4697-800a-658432e817ea",
   "metadata": {},
   "outputs": [
    {
     "name": "stdout",
     "output_type": "stream",
     "text": [
      "original: 14843\n",
      "resized: 7048\n",
      "quantized: 10\n",
      "mapped: 10\n"
     ]
    }
   ],
   "source": [
    "image_path = \"/Users/kateportalatin/py_workspace/stitch_companion_2/images/sparrows.jpeg\"\n",
    "\n",
    "with Image.open(image_path) as image:\n",
    "    image.show()\n",
    "    count_i = count_unique_colors(image)\n",
    "    num_colors = 10\n",
    "    print(f\"original: {count_i}\")\n",
    "    resized_image = load_and_resize_image(image, target_size=(100, 100))\n",
    "    count_r = count_unique_colors(resized_image)\n",
    "    print(f\"resized: {count_r}\")\n",
    "    q_image, labels_, palette_ = quantize_image(resized_image, num_colors)\n",
    "    q_image.show()\n",
    "    count_q = count_unique_colors(q_image)\n",
    "    print(f\"quantized: {count_q}\")\n",
    "    csv_file = \"/Users/kateportalatin/py_workspace/stitch_companion_2/dmc_colors.csv\"\n",
    "    dmc_colors = load_threads(csv_file)\n",
    "    mapped_palette = map_colors_to_thread(palette_, dmc_colors)\n",
    "    \n",
    "    mapped_image = apply_palette_to_image(q_image, labels_, mapped_palette)\n",
    "    count_m = count_unique_colors(mapped_image)\n",
    "    print(f\"mapped: {count_m}\")\n",
    "    symbol_map, thread_map = symbol_dict_create(dmc_colors, mapped_palette)\n",
    "    mapped_image.show()\n",
    "    pattern_chart = fill_pattern(mapped_image, mapped_palette, labels_, symbol_map)\n",
    "    pattern_chart.show()"
   ]
  },
  {
   "cell_type": "code",
   "execution_count": null,
   "id": "900bddea-d212-4cdc-9988-9ad43c8f98fb",
   "metadata": {},
   "outputs": [],
   "source": [
    "# Step 5 Export pattern\n",
    "def save_pattern(pattern, file_name):\n",
    "    pattern_image = Image.fromarray(pattern)\n",
    "    pattern_image.save(file_name)"
   ]
  },
  {
   "cell_type": "code",
   "execution_count": null,
   "id": "284ac62d-4679-4b9b-be47-5ab3ea792c4f",
   "metadata": {},
   "outputs": [],
   "source": [
    "# Main function to run steps\n",
    "def main():\n",
    "    \"\"\"\n",
    "    image_path = \"images/sailor-1.jpeg\"\n",
    "    target_size = (800, 600)\n",
    "    num_colors = 50\n",
    "\n",
    "    image = load_and_resize_image(image_path, target_size)\n",
    "    image.show()\n",
    "    quantized_image = quantize_image(image, num_colors)\n",
    "    dmc_palette = load_dmc_color_data()\n",
    "    mapped_image = map_colors_to_dmc(quantized_image, dmc_palette)\n",
    "    pattern = generate_pattern(mapped_image)\n",
    "    save_pattern(pattern, \"stitch-pattern.png\")\n",
    "    \"\"\"\n"
   ]
  },
  {
   "cell_type": "code",
   "execution_count": null,
   "id": "f64e1a3b-5e1e-49d7-b454-9ed68a8f9a8a",
   "metadata": {},
   "outputs": [],
   "source": [
    "%reset -f"
   ]
  },
  {
   "cell_type": "code",
   "execution_count": 1,
   "id": "2456f796-03e6-4629-aaec-bfae3a0ec9d8",
   "metadata": {},
   "outputs": [
    {
     "name": "stdout",
     "output_type": "stream",
     "text": [
      "/Users/kateportalatin/.pyenv/versions/3.12.5/bin/python3.12\n"
     ]
    }
   ],
   "source": [
    "import sys\n",
    "print(sys.executable)"
   ]
  },
  {
   "cell_type": "code",
   "execution_count": 14,
   "id": "69867604-261c-49ed-a982-1112f712cedb",
   "metadata": {},
   "outputs": [
    {
     "data": {
      "text/plain": [
       "<module 'colormath.color_diff' from '/Users/kateportalatin/.pyenv/versions/3.12.5/lib/python3.12/site-packages/colormath/color_diff.py'>"
      ]
     },
     "execution_count": 14,
     "metadata": {},
     "output_type": "execute_result"
    }
   ],
   "source": [
    "import importlib\n",
    "import colormath.color_diff\n",
    "importlib.reload(colormath.color_diff)"
   ]
  },
  {
   "cell_type": "code",
   "execution_count": 17,
   "id": "3c2f8b0d-111b-40a0-a08f-3a7fa33bc3f3",
   "metadata": {},
   "outputs": [
    {
     "name": "stdout",
     "output_type": "stream",
     "text": [
      "/Users/kateportalatin/.pyenv/versions/3.12.5/lib/python3.12/site-packages/colormath/color_diff.py\n"
     ]
    }
   ],
   "source": [
    "import colormath.color_diff\n",
    "print(colormath.color_diff.__file__)"
   ]
  },
  {
   "cell_type": "code",
   "execution_count": null,
   "id": "9d8efc77-9e4e-43cd-b0f1-1f92c1888226",
   "metadata": {},
   "outputs": [],
   "source": []
  }
 ],
 "metadata": {
  "kernelspec": {
   "display_name": "Python 3 (ipykernel)",
   "language": "python",
   "name": "python3"
  },
  "language_info": {
   "codemirror_mode": {
    "name": "ipython",
    "version": 3
   },
   "file_extension": ".py",
   "mimetype": "text/x-python",
   "name": "python",
   "nbconvert_exporter": "python",
   "pygments_lexer": "ipython3",
   "version": "3.12.5"
  }
 },
 "nbformat": 4,
 "nbformat_minor": 5
}
